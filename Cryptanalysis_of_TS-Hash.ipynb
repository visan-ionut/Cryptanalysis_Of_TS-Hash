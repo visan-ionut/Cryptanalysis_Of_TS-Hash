{
  "nbformat": 4,
  "nbformat_minor": 0,
  "metadata": {
    "colab": {
      "provenance": []
    },
    "kernelspec": {
      "name": "python3",
      "display_name": "Python 3"
    },
    "language_info": {
      "name": "python"
    }
  },
  "cells": [
    {
      "cell_type": "code",
      "execution_count": null,
      "metadata": {
        "colab": {
          "base_uri": "https://localhost:8080/"
        },
        "id": "DrSLCtt3yqCy",
        "outputId": "4dfcd8e3-4d77-470a-b281-0357b7f7cfe3"
      },
      "outputs": [
        {
          "output_type": "stream",
          "name": "stdout",
          "text": [
            "TS-Hash pentru mesajul [1, 1, 1, 0]: 12\n"
          ]
        }
      ],
      "source": [
        "def ts_hash(message, p0, p1, s0):\n",
        "    def lfsr_update(s, m, poly):\n",
        "        \"\"\"\n",
        "        Actualizează starea LFSR în funcție de un bit de mesaj și un set de polinoame de feedback.\n",
        "\n",
        "        Parameters:\n",
        "        - s: Starea curentă a LFSR.\n",
        "        - m: Bitul de mesaj (0 sau 1) pentru a actualiza starea LFSR.\n",
        "        - poly: Lista cu două polinoame de feedback.\n",
        "\n",
        "        Returns:\n",
        "        - Starea actualizată a LFSR.\n",
        "        \"\"\"\n",
        "        # Se execută shift la dreapta până când se ajunge la un bit setat\n",
        "        while (s & 1) == 0:\n",
        "            s >>= 1\n",
        "        # Se actualizează starea LFSR folosind polinomul de feedback corespunzător bitului de mesaj\n",
        "        return (s >> 1) ^ poly[m]\n",
        "\n",
        "    # Se inițializează polinoamele de feedback\n",
        "    poly = [p0, p1]\n",
        "    # Se inițializează starea LFSR\n",
        "    s = s0\n",
        "\n",
        "    # Se parcurge fiecare bit din mesaj pentru a actualiza starea LFSR\n",
        "    for bit in message:\n",
        "        s = lfsr_update(s, bit, poly)\n",
        "\n",
        "    # Se returnează rezultatul final al funcției hash\n",
        "    return s\n",
        "\n",
        "# Exemplu de utilizare\n",
        "p0 = 0b1011\n",
        "p1 = 0b1101\n",
        "s0 = 0b0101\n",
        "message = [1, 1, 1, 0]  # Exemplu de mesaj\n",
        "\n",
        "hash_result = ts_hash(message, p0, p1, s0)\n",
        "print(f'TS-Hash pentru mesajul {message}: {hash_result}')\n"
      ]
    }
  ]
}